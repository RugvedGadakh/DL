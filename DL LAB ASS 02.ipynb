{
 "cells": [
  {
   "cell_type": "markdown",
   "id": "d911b8c3",
   "metadata": {},
   "source": [
    "\n"
   ]
  },
  {
   "cell_type": "markdown",
   "id": "2ca42f66",
   "metadata": {},
   "source": [
    "# Importing Libraries"
   ]
  },
  {
   "cell_type": "code",
   "execution_count": 23,
   "id": "dd746124",
   "metadata": {},
   "outputs": [],
   "source": [
    "import tensorflow as tf\n",
    "from tensorflow import keras\n",
    "import pandas as pd\n",
    "import numpy as np\n",
    "import matplotlib.pyplot as plt\n",
    "import random \n",
    "%matplotlib inline"
   ]
  },
  {
   "cell_type": "markdown",
   "id": "12ea42a4",
   "metadata": {},
   "source": [
    "# Loading and preparing the data"
   ]
  },
  {
   "cell_type": "code",
   "execution_count": 24,
   "id": "d3ed7926",
   "metadata": {},
   "outputs": [],
   "source": [
    "#import dataset and split into train and test \n",
    "mnist = tf.keras.datasets.mnist\n",
    "(x_train,y_train),(x_test,y_test) = mnist.load_data()"
   ]
  },
  {
   "cell_type": "code",
   "execution_count": 25,
   "id": "70acaa61",
   "metadata": {},
   "outputs": [
    {
     "data": {
      "text/plain": [
       "<matplotlib.image.AxesImage at 0x2bcf1b2bbd0>"
      ]
     },
     "execution_count": 25,
     "metadata": {},
     "output_type": "execute_result"
    },
    {
     "data": {
      "image/png": "[encoded data removed]",
      "text/plain": [
       "<Figure size 480x480 with 1 Axes>"
      ]
     },
     "metadata": {},
     "output_type": "display_data"
    }
   ],
   "source": [
    "#to see how first image looks\n",
    "plt.matshow(x_train[0])"
   ]
  },
  {
   "cell_type": "code",
   "execution_count": 26,
   "id": "0d78e5bf",
   "metadata": {},
   "outputs": [],
   "source": [
    "#normalising the images by scaling the pixel intensities to the range 0 to 1\n",
    "x_train = x_train / 255\n",
    "x_test = x_test / 255"
   ]
  },
  {
   "cell_type": "markdown",
   "id": "dacae93a",
   "metadata": {},
   "source": [
    "# Creating the Model"
   ]
  },
  {
   "cell_type": "code",
   "execution_count": 27,
   "id": "3afd77cb",
   "metadata": {},
   "outputs": [],
   "source": [
    "model = keras.Sequential([\n",
    "    keras.layers.Flatten(input_shape=(28,28)),\n",
    "    keras.layers.Dense(128,activation = 'relu'),\n",
    "    keras.layers.Dense(10,activation = 'softmax')\n",
    "])"
   ]
  },
  {
   "cell_type": "code",
   "execution_count": 28,
   "id": "f853ab52",
   "metadata": {},
   "outputs": [
    {
     "name": "stdout",
     "output_type": "stream",
     "text": [
      "Model: \"sequential_2\"\n",
      "_________________________________________________________________\n",
      " Layer (type)                Output Shape              Param #   \n",
      "=================================================================\n",
      " flatten_2 (Flatten)         (None, 784)               0         \n",
      "                                                                 \n",
      " dense_4 (Dense)             (None, 128)               100480    \n",
      "                                                                 \n",
      " dense_5 (Dense)             (None, 10)                1290      \n",
      "                                                                 \n",
      "=================================================================\n",
      "Total params: 101770 (397.54 KB)\n",
      "Trainable params: 101770 (397.54 KB)\n",
      "Non-trainable params: 0 (0.00 Byte)\n",
      "_________________________________________________________________\n"
     ]
    }
   ],
   "source": [
    "model.summary()"
   ]
  },
  {
   "cell_type": "markdown",
   "id": "4f0a3856",
   "metadata": {},
   "source": [
    "# Compile the model"
   ]
  },
  {
   "cell_type": "code",
   "execution_count": 29,
   "id": "e2f08ca6",
   "metadata": {},
   "outputs": [],
   "source": [
    "model.compile(optimizer = 'sgd',loss = 'sparse_categorical_crossentropy', metrics = ['accuracy'])"
   ]
  },
  {
   "cell_type": "markdown",
   "id": "72e6bbf4",
   "metadata": {},
   "source": [
    "# Train the Model"
   ]
  },
  {
   "cell_type": "code",
   "execution_count": 30,
   "id": "829568f2",
   "metadata": {},
   "outputs": [
    {
     "name": "stdout",
     "output_type": "stream",
     "text": [
      "Epoch 1/10\n",
      "1875/1875 [==============================] - 6s 3ms/step - loss: 0.6588 - accuracy: 0.8336 - val_loss: 0.3586 - val_accuracy: 0.9037\n",
      "Epoch 2/10\n",
      "1875/1875 [==============================] - 6s 3ms/step - loss: 0.3383 - accuracy: 0.9063 - val_loss: 0.2955 - val_accuracy: 0.9187\n",
      "Epoch 3/10\n",
      "1875/1875 [==============================] - 6s 3ms/step - loss: 0.2893 - accuracy: 0.9191 - val_loss: 0.2659 - val_accuracy: 0.9261\n",
      "Epoch 4/10\n",
      "1875/1875 [==============================] - 6s 3ms/step - loss: 0.2588 - accuracy: 0.9277 - val_loss: 0.2386 - val_accuracy: 0.9332\n",
      "Epoch 5/10\n",
      "1875/1875 [==============================] - 6s 3ms/step - loss: 0.2354 - accuracy: 0.9342 - val_loss: 0.2195 - val_accuracy: 0.9382\n",
      "Epoch 6/10\n",
      "1875/1875 [==============================] - 5s 3ms/step - loss: 0.2159 - accuracy: 0.9399 - val_loss: 0.2031 - val_accuracy: 0.9420\n",
      "Epoch 7/10\n",
      "1875/1875 [==============================] - 6s 3ms/step - loss: 0.1995 - accuracy: 0.9443 - val_loss: 0.1893 - val_accuracy: 0.9450\n",
      "Epoch 8/10\n",
      "1875/1875 [==============================] - 6s 3ms/step - loss: 0.1859 - accuracy: 0.9482 - val_loss: 0.1763 - val_accuracy: 0.9488\n",
      "Epoch 9/10\n",
      "1875/1875 [==============================] - 6s 3ms/step - loss: 0.1737 - accuracy: 0.9516 - val_loss: 0.1685 - val_accuracy: 0.9519\n",
      "Epoch 10/10\n",
      "1875/1875 [==============================] - 5s 3ms/step - loss: 0.1633 - accuracy: 0.9543 - val_loss: 0.1591 - val_accuracy: 0.9554\n"
     ]
    }
   ],
   "source": [
    "history = model.fit(x_train,y_train,validation_data = (x_test,y_test), epochs = 10)"
   ]
  },
  {
   "cell_type": "markdown",
   "id": "44b0b31d",
   "metadata": {},
   "source": [
    "# Evaluate the Model"
   ]
  },
  {
   "cell_type": "code",
   "execution_count": 31,
   "id": "01b1305a",
   "metadata": {},
   "outputs": [
    {
     "name": "stdout",
     "output_type": "stream",
     "text": [
      "313/313 [==============================] - 1s 3ms/step - loss: 0.1591 - accuracy: 0.9554\n",
      "Loss = 0.159\n",
      "Accuracy = 0.955\n"
     ]
    }
   ],
   "source": [
    "test_loss,test_acc = model.evaluate(x_test,y_test)\n",
    "print(\"Loss = %.3f\" %test_loss)\n",
    "print(\"Accuracy = %.3f\" %test_acc)"
   ]
  },
  {
   "cell_type": "markdown",
   "id": "a90aaddf",
   "metadata": {},
   "source": [
    "# Making Prediction on New Data"
   ]
  },
  {
   "cell_type": "code",
   "execution_count": 32,
   "id": "cb5c87d8",
   "metadata": {},
   "outputs": [
    {
     "data": {
      "image/png": "[encoded data removed]",
      "text/plain": [
       "<Figure size 640x480 with 1 Axes>"
      ]
     },
     "metadata": {},
     "output_type": "display_data"
    }
   ],
   "source": [
    "n = random.randint(0,9999)\n",
    "plt.imshow(x_test[n])\n",
    "plt.show()"
   ]
  },
  {
   "cell_type": "markdown",
   "id": "fcde8c2a",
   "metadata": {},
   "source": [
    "# Confusion Matrix"
   ]
  },
  {
   "cell_type": "code",
   "execution_count": 33,
   "id": "87d4c10a",
   "metadata": {},
   "outputs": [
    {
     "name": "stdout",
     "output_type": "stream",
     "text": [
      "313/313 [==============================] - 1s 2ms/step\n",
      "Confusion Matrix of the Test Set :\n",
      " tf.Tensor(\n",
      "[[ 964    0    1    1    0    5    6    2    1    0]\n",
      " [   0 1117    3    2    1    1    3    2    6    0]\n",
      " [   7    3  983    4    7    1    9    8   10    0]\n",
      " [   0    1    4  964    0   16    1   11   10    3]\n",
      " [   1    1    5    0  931    0   13    2    3   26]\n",
      " [   8    1    0   14    2  846    9    1    7    4]\n",
      " [   7    3    2    0    6   11  927    0    2    0]\n",
      " [   2    7   23    3    3    1    0  974    1   14]\n",
      " [   4    3    3   15    6   12    8    9  910    4]\n",
      " [   9    8    1   11   19    8    1   10    4  938]], shape=(10, 10), dtype=int32)\n"
     ]
    }
   ],
   "source": [
    "test_predict = model.predict(x_test)\n",
    "#get classification labels\n",
    "test_predict_labels = np.argmax(test_predict,axis = 1)\n",
    "confusion_matrix = tf.math.confusion_matrix(labels = y_test, predictions = test_predict_labels)\n",
    "print('Confusion Matrix of the Test Set :\\n' , confusion_matrix)"
   ]
  },
  {
   "cell_type": "markdown",
   "id": "2c24cb35",
   "metadata": {},
   "source": [
    "Feedforward Neural Network (MLP): A type of deep learning model where data flows in one direction from input to output. In this assignment, the MLP model is used for digit classification on the MNIST dataset.\n",
    "\n",
    "Keras and TensorFlow: Keras, as an API within TensorFlow, allows easy model-building. TensorFlow is the underlying platform enabling machine learning with its powerful tools for defining and training neural networks.\n",
    "\n",
    "MNIST Dataset: A widely-used dataset containing 28x28 grayscale images of handwritten digits, labeled from 0 to 9. It's often used for testing classification models due to its simplicity and high-quality data.\n",
    "\n",
    "Network Architecture: The model consists of an input layer (Flatten layer) that converts image matrices into vectors, followed by a hidden Dense layer with ReLU activation for learning features, and an output Dense layer with softmax activation for classification.\n",
    "\n",
    "Training and Evaluation: Using Stochastic Gradient Descent (SGD) for optimization, the model is trained and compiled with the sparse_categorical_crossentropy loss function, appropriate for multi-class classification. The model’s performance is measured in terms of accuracy, and it is visualized through graphs of loss and accuracy over epochs.\n",
    "\n",
    "Model Generalization: Achieving over 90% accuracy is a key objective, with focus on methods to improve generalization, meaning the model should perform well on unseen data, not just the training set.\n",
    "\n",
    "Evaluation Metrics: Final performance is assessed through accuracy and visual tools like confusion matrices, highlighting the classification accuracy per digit."
   ]
  },
  {
   "cell_type": "markdown",
   "id": "fe0da412",
   "metadata": {},
   "source": [
    "In this assignment, a Feedforward Neural Network (MLP) will be built and trained to classify handwritten digits from the MNIST dataset using Keras with TensorFlow. The steps include loading the MNIST dataset, defining the neural network architecture with one hidden layer, training the model using Stochastic Gradient Descent (SGD), and evaluating its performance. Key objectives are to understand model training and evaluation, achieve over 90% accuracy on the dataset, and research methods to improve generalization. TensorFlow's Keras API simplifies constructing the model, where a Flatten layer converts each image to a vector and Dense layers with ReLU and softmax activations perform the classification.\n",
    "\n",
    "The model is compiled with the sparse_categorical_crossentropy loss function, ideal for multi-class problems, and is trained over 10 epochs, showing progressively improved accuracy and reduced loss, indicating effective learning. Results are visualized through graphs of training loss and accuracy, and the evaluate() method is used to check the model’s accuracy on test data. With a confusion matrix, the classification performance across each digit can be observed. Overall, this exercise showcases building a neural network model from scratch, training it, and achieving desired accuracy in image classification."
   ]
  }
 ],
 "metadata": {
  "kernelspec": {
   "display_name": "Python 3 (ipykernel)",
   "language": "python",
   "name": "python3"
  },
  "language_info": {
   "codemirror_mode": {
    "name": "ipython",
    "version": 3
   },
   "file_extension": ".py",
   "mimetype": "text/x-python",
   "name": "python",
   "nbconvert_exporter": "python",
   "pygments_lexer": "ipython3",
   "version": "3.11.4"
  }
 },
 "nbformat": 4,
 "nbformat_minor": 5
}
